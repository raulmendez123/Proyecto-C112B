{
 "cells": [
  {
   "cell_type": "markdown",
   "id": "50e14c44-37ba-4f3c-b57b-71818045a18d",
   "metadata": {},
   "source": [
    "                                         UNIVERSIDAD NACIONAL DE INGENIERÍA\n",
    "\n",
    "FACULTAD DE CIENCIAS\n",
    "\n",
    "ESCUELA PROFESIONAL DE CIENCIAS DE LA COMPUTACIÓN\n",
    "\n",
    "Nombre del Proyecto: “GENERADOR DE NOMBRES TONTOS”\n",
    "\n",
    "Sección: “B”\n",
    "\n",
    "Apellidos, nombres y código:\n",
    "\n",
    "Rosales Torres, Elias Enoc 20221629C\n",
    "\n",
    "Gomez Carlos, Arnol Shadon 20222698I\n",
    "\n",
    "Prieto Chancasanampa, Cesar Edu 20222717C\n",
    "\n",
    "Mendez Ñaupa, Raul Alonso 20210422C\n",
    "\n",
    "Nombre del docente: Cesar Jesus Lara Avila\n",
    "\n",
    "Lenguaje de programación a usar: Lenguaje C++ y Python\n",
    "\n",
    "Fecha de entrega: 2 de Julio del 2023.\n",
    "\n",
    "2023"
   ]
  },
  {
   "cell_type": "markdown",
   "id": "02906ce0-934e-401b-a79e-d66cd71b276d",
   "metadata": {},
   "source": [
    "**INTRODUCCIÓN:**\n",
    "\n",
    "**I)PROBLEMA**\n",
    "Este proyecto consiste en desarrollar un programa en C + + o Python que sea capaz de generar nombres chiflados al combinar nombres y apellidos de manera aleatoria.\n",
    "Dicho proyecto se enfoca en la solucion de diferentes problemas de la vida diaria, uno de los problemas es la cantidad de nombres de usuarios para registarse a una red social o videojuegos. Los nombres comunes ya son registrados a dichas plataformas y cuando exista un jugador nuevo no podra registrarse porque el nombre ya esta en uso. Por eso se preparo este proyecto para solucionar dicho problema. Generar nombres tontos y divertidos que a poca gente se le pueda ocurrir. \n",
    "Además, no estarás solo en esta travesía. Podrás aprovechar programas externos y herramientas que te ayudarán a mejorar la calidad de tu código. \n",
    "\n",
    "**II)OBJETIVOS:**\n",
    "El objetivo principal de este proyecto es desarrollar un programa en C++ que genere nombres divertidos al combinar nombres y apellidos de manera aleatoria. Se busca proporcionar una herramienta lúdica y creativa que pueda ser utilizada en diversas ocasiones, como la creación de personajes de ficción, la generación de apodos o la planificación de eventos temáticos.\n",
    "\n",
    "**III)Organizacion del Informe**\n",
    "En el proyecto se organiza en diferentes aspectos como:\n",
    "\n",
    "Introducción\n",
    "\n",
    "Estado del arte\n",
    "\n",
    "Diseño del experimento\n",
    "\n",
    "Experimentos y resultados\n",
    "\n",
    "Discusión\n",
    "\n",
    "Conclusiones y trabajos futuros.\n",
    "\n",
    "Bibliografía o Referencias.\n",
    "\n"
   ]
  },
  {
   "cell_type": "markdown",
   "id": "6d9dfa2c-60d1-403b-8d70-5877d9b3a60a",
   "metadata": {},
   "source": [
    "**RESUMEN:**\n",
    "\n",
    "En este proyecto de preparación, desarrollaremos un programa sencillo en C + + o Python que genere nombres extravagantes al combinar de forma aleatoria nombres y apellidos. Con suerte, obtendrás una amplia gama de alias que seguramente impresionará a tus amigos. Además, debes tener en cuenta las pautas de codificación de mejores prácticas y aprovechar programas externos que te ayudarán a escribir un código que cumpla con dichas pautas. En resumen, el proyecto consiste en crear un generador de nombres locos, seguir buenas prácticas de codificación y utilizar herramientas para mejorar la calidad del código.\n"
   ]
  },
  {
   "cell_type": "markdown",
   "id": "a0f3a5f4-ad6f-431d-a6e5-9027a1b28f0c",
   "metadata": {},
   "source": [
    "**ESTADO DE ARTE:**\n",
    "\n",
    "A continuación, se mencionan tres artículos científicos relevantes que abordan el problema de la generación de nombres divertidos y sus variantes:\n",
    "\n",
    "1. Phil.o(2016).Random Name Generation Using Markov Chain.Code Project,1. Obtenido de www.codeproject.com/Articles/1151624/Random-Name-Generation-Using-Markov-Chains.\n",
    "\n",
    "2. Alejandro, L. (2017). Sistema de recitación de maletín con generador de nombres aleatorios: una herramienta de recitación alternativa. Revista Internacional de Investigación en Ciencias de la Computación, 1 (2), 36-45. Obtenido de https://stepacademic.net/ijcsr/article/view/28.\n",
    "\n",
    "3. Peter V Marsden(2003).Interviewer effects in measuring network size using a single name generator,Social Networks,25,(1),1-16. Obtenido de https://doi.org/10.1016/S0378-8733(02)00009-6.\n"
   ]
  },
  {
   "cell_type": "markdown",
   "id": "ddd149e9-3625-4485-91c3-fc3063aa7a9c",
   "metadata": {},
   "source": [
    "**Diseño del Experimento**\n",
    "\n",
    "En primer lugar, vamos a establecer dos listas de nombres graciosos. Estas listas serán de tamaño reducido, por lo que no ocuparán mucha memoria. No habrá necesidad de modificarlas dinámicamente ni se esperan problemas de rendimiento durante su ejecución. Dado que solo necesitaremos leer los nombres de la lista, utilizaremos una tupla como estructura contenedora.\n",
    "Usando las dos tuplas de nombres que has definido, generaremos nombres nuevos al combinar un nombre de la primera tupla con un apellido de la segunda tupla. Esto se hará al presionar un botón, lo que permitirá al usuario repetir el proceso fácilmente hasta encontrar un nombre lo bastante divertido.\n",
    "Además, es necesario resaltar el nombre generado en la ventana del intérprete para que se destaque de las indicaciones de comando. Aunque el shell IDLE tiene opciones de fuente limitadas, podemos utilizar el color rojo que generalmente se utiliza para resaltar los errores. Para lograr esto, podemos utilizar el módulo `sys` y redirigir la salida de la función `print()` al archivo `sys.stderr`. De esta manera, el nombre se mostrará en rojo en la ventana del intérprete, destacándose de las demás líneas de salida.\n",
    "\n",
    "El código utilizado para realizar el proyecto:\n",

[![](https://github.com/raulmendez123/Proyecto-C112B/blob/main/Captura%20de%20pantalla%202023-06-30%20173036.png)

    "\n",
    "\n",
    "Del código proporcionado, se pueden destacar algunas características relevantes:\n",
    "\n",
    "1.Utilización de tuplas: El código utiliza la clase std::tuple de la biblioteca estándar de C + + para almacenar y devolver múltiples valores. En este caso, se utiliza una tupla para representar un nombre divertido, que consiste en un nombre y un apellido.\n",
    "\n",
    "2.Generación aleatoria: Se utiliza la biblioteca <random> para generar números aleatorios. Se crea un objeto std::random_device para obtener una semilla de generación aleatoria y un objeto std::mt19937 como generador de números aleatorios. Luego se utilizan las distribuciones std::uniform_int_distribution para seleccionar aleatoriamente índices de las listas de nombres y apellidos.\n",
    "\n",
    "3.Entrada y salida de datos: Se utiliza std::cin para leer la entrada del usuario desde la consola y std::cout para mostrar mensajes en la consola. Además, se utiliza std::cerr para mostrar el nombre divertido generado resaltado en la consola de error.\n",
    "\n",
    "4.Uso de bucles y condicionales: Se utiliza un bucle while (true) para repetir el proceso de generación de nombres divertidos hasta que el usuario decida salir. Además, se utiliza un condicional if para verificar si el usuario desea salir del programa.\n",
    "\n",
    "5.Interacción con el usuario: El programa proporciona instrucciones al usuario y le solicita ingresar comandos o presionar Enter para generar otro nombre divertido. También permite al usuario escribir \"salir\" para terminar el programa.\n",
    "\n",
    "6.Control de flujo: Se utiliza la sentencia break para salir del bucle while (true) y finalizar el programa cuando el usuario decide salir.\n",
    "\n",
    "En general, el código muestra cómo utilizar tuplas, generación aleatoria, entrada/salida de datos y control de flujo en C + +. También ilustra cómo interactuar con el usuario en la consola y resaltar el texto en la salida de error.\n",
    "\n",
    "En el programa la implementación que realizamos fue una de las características a resaltar es el uso de tuplas que nos permite el retorno de más de 2 tipos de datos .También se implementó dos cadenas de caracteres en donde encontramos los nombres graciosos o más interesantes,se implementó un código en lenguaje c++ para combinar dichas palabras, utilizamos diferentes bucles, estructuras, funciones.\n",
    "\n",
    "**Implementacion del mismo problema usando el lenguaje Python**\n",
    "    \n",
    "De la misma manera , establecemos 2 listas con nombres graciosos y de tamaño reducido por los motivos mencionados antes y siguiendo los siguientes pasos:\n",
    " \n",
    "1.Definir la funcion \"generar_numero_aleatorio\" que recibe 2 argumentos tipo entero con los cuales formara un intervalo entre ambos valores y regresara un valor aleatorio dentro de ese intervalo mediante la funcion \"random.randint\".\n",
    "    \n",
    "2.Definir la funcion \"obtener_elemento_aleatorio\" que recibe un dato tipo array para luego obtener el \"tamaño\" del array mediante la funcion \"len\" y utilizando la funcion ya definida en el paso 1 \"generar_numero_aleatorio\"\n",
    "obtenemos el indice deseado de los array definidos en las 2 listas con nombres graciosos al acotar el intervalo entre 0 y la longitud del array -1 ,devuelve el indice aleatorio entre este intervalo.\n",
    "    \n",
    "3.Implementar un ciclo while para darle la libertad al usuario de poder seguir eligiendo un nombre compuesto aleatorio o terminar el programa mediante 2 opcione \"1\" y \"2\": \"1\" para generar un nombre aleatorio y \"2\" para terminar el programa.\n",
    "    \n",
    "4.Mediante la opcion \"1\" del bucle \"while\" del paso 3 , invocamos la funcion \"generar_nombre\" en el cual estan definidos las 2 listas de nombres que se van a combinar para generar el nombre gracioso deseado terminando asi el codigo.\n",
    "    \n",
    "\n",
    "  \n",
    "    "
   ]
  },
  {
   "cell_type": "markdown",
   "id": "c8ed269a-6017-4733-a089-b647814b8b5c",
   "metadata": {},
   "source": [
    "**EXPERIMENTOS Y RESULTADOS**\n",
    "Si partimos de este codigo basico:\n",
    "\n",
    "\n",
    "este codigo solo genera un nombre aleatorio sin interactuar con la persona \n"
   ]
  },
  {
   "cell_type": "markdown",
   "id": "bd76529d-840a-4873-aad7-8c2f49931095",
   "metadata": {},
   "source": [
    "Debido a que el \n",
    "Aqui tenemos la ejecucion del codigo en python:"
   ]
  },
  {
   "cell_type": "code",
   "execution_count": null,
   "id": "202bb88c-2ced-45e1-a49e-9574aa0bd745",
   "metadata": {
    "executionCancelledAt": null,
    "executionTime": 55,
    "lastExecutedAt": 1688269844424,
    "lastScheduledRunId": null,
    "lastSuccessfullyExecutedCode": "import random\n\n#Funcion para generar los nombres a partir de 2 arreglos o listas que retorna el nombre combinando aleatoriamente 1 palabra de cada array.\ndef generar_nombre():\n    lista_palabras_1 = ['Loco', 'Chispas', 'Pirata', 'Bombon', 'Trueno']\n    lista_palabras_2 = ['Saltarin', 'Destello', 'Aventurero', 'Dulcecito', 'Tormenta']\n\n    nombre_1 = obtener_elemento_aleatorio(lista_palabras_1)\n    nombre_2 = obtener_elemento_aleatorio(lista_palabras_2)\n\n    nombre_generado = nombre_1 + ' ' + nombre_2\n\n    return nombre_generado\n\n#Funcion para obtener el elemento aleatorio que tomara la funcion \"generar_nombre\" para elegir al azar un elemento del array utilizando como indice el numero generado por la funcion \"generar_numero_aleatorio\".\ndef obtener_elemento_aleatorio(array):\n    longitud_array = len(array)\n    indice_aleatorio = generar_numero_aleatorio(0, longitud_array - 1)\n    return array[indice_aleatorio]\n\n#Funcion que genera el numero aleatorio que utilizara la funcion \"obtener_elemento_aleatorio\" para tomar un elemento respecto al indice del array.\ndef generar_numero_aleatorio(inicio, fin):\n    numero_aleatorio = random.randint(inicio, fin)\n    return numero_aleatorio\n    \n#Inicializando la variable opcion con un espacio en blanco\nopcion = \"\"\n\n#Utilizando el bucle while para el menu de opciones\nwhile opcion != \"3\":\n    print(\"1. Generar nombre aleatorio\")\n    print(\"2. Terminar el programa\")\n    print(\"Selecciona una opción: \")\n    opcion = \"2\"\n    \n    #Invocando la funcion \"generar_nombre\" para imprimir el nombre compuesto ya generado previamente.\n    if opcion == \"1\":\n        nombre = generar_nombre()\n        print(\"Nombre generado:\", nombre)\n        \n    #Terminando el programa en caso tengamos el nombre deseado\n    elif opcion == \"2\":\n        print(\"Programa terminado\")\n        break\n    else:\n        print(\"Error,Ingrese una opcion válida.\")"
   },
   "outputs": [],
   "source": [
    "import random\n",
    "\n",
    "#Funcion para generar los nombres a partir de 2 arreglos o listas que retorna el nombre combinando aleatoriamente 1 palabra de cada array.\n",
    "def generar_nombre():\n",
    "    lista_palabras_1 = ['Loco', 'Chispas', 'Pirata', 'Bombon', 'Trueno']\n",
    "    lista_palabras_2 = ['Saltarin', 'Destello', 'Aventurero', 'Dulcecito', 'Tormenta']\n",
    "\n",
    "    nombre_1 = obtener_elemento_aleatorio(lista_palabras_1)\n",
    "    nombre_2 = obtener_elemento_aleatorio(lista_palabras_2)\n",
    "\n",
    "    nombre_generado = nombre_1 + ' ' + nombre_2\n",
    "\n",
    "    return nombre_generado\n",
    "\n",
    "#Funcion para obtener el elemento aleatorio que tomara la funcion \"generar_nombre\" para elegir al azar un elemento del array utilizando como indice el numero generado por la funcion \"generar_numero_aleatorio\".\n",
    "def obtener_elemento_aleatorio(array):\n",
    "    longitud_array = len(array)\n",
    "    indice_aleatorio = generar_numero_aleatorio(0, longitud_array - 1)\n",
    "    return array[indice_aleatorio]\n",
    "\n",
    "#Funcion que genera el numero aleatorio que utilizara la funcion \"obtener_elemento_aleatorio\" para tomar un elemento respecto al indice del array.\n",
    "def generar_numero_aleatorio(inicio, fin):\n",
    "    numero_aleatorio = random.randint(inicio, fin)\n",
    "    return numero_aleatorio\n",
    "    \n",
    "#Inicializando la variable opcion con un espacio en blanco\n",
    "opcion = \"\"\n",
    "\n",
    "#Utilizando el bucle while para el menu de opciones\n",
    "while opcion != \"2\":\n",
    "    print(\"1. Generar nombre aleatorio\")\n",
    "    print(\"2. Terminar el programa\")\n",
    "    print(\"Selecciona una opción: \")\n",
    "    opcion = input()\n",
    "    \n",
    "    #Invocando la funcion \"generar_nombre\" para imprimir el nombre compuesto ya generado previamente.\n",
    "    if opcion == \"1\":\n",
    "        nombre = generar_nombre()\n",
    "        print(\"Nombre generado:\", nombre)\n",
    "        \n",
    "    #Terminando el programa en caso tengamos el nombre deseado\n",
    "    elif opcion == \"2\":\n",
    "        print(\"Programa terminado\")\n",
    "        break\n",
    "    else:\n",
    "        print(\"Error,Ingrese una opcion válida.\")"
   ]
  },
  {
   "cell_type": "markdown",
   "id": "71715d63-4dca-4999-899e-bf2f2da036b0",
   "metadata": {},
   "source": [
    "Notese que solo se utilizo la libreria \"Import random\" y ningun bucle utilizado previamente en el codigo realizdo en c++, dando a relucir la mayor simplicidad al trabajar con el lenguaje python."
   ]
  },
  {
   "cell_type": "markdown",
   "id": "fda66728-5633-491e-83d3-659c35d03a3f",
   "metadata": {},
   "source": [
    "**DISCUSIONES**\n",
    "\n",
    "Gracias al codigo que se planteo sobre generar nombre tontos se pudo obtener un resultado positivo que nos ayuda en la solucion del problema planteado.Para interpretar los resultados nos podemos dar cuenta que cada codigo se diferencian en las pruebas. Nuestro codigo principal se basa en un solucion general que el mismo usuario pueda modificar. En cambio en el otro codigo se basa en que el mismo lenguaje lanze un nombre aleatorio para el usuario.\n",
    "\n",
    "**¿cómo podriamos mejorar los resultados?**\n",
    "\n",
    "Para poder mejorar los resultados debemos ampliar más el codigo base y plantear más nombres que se puedan combinar. \n",
    "\n",
    "**¿si modificamos el codigo afecta al rendimineto?**\n",
    "\n",
    "Varia depende a la modificacion , si se modificara para ampliar los nombres se obtendria un mayor rendimiento, pero al momento de hacerlo tambien se podria perder datos si no se realiza correctamente\n",
    "\n",
    "**¿nuestro codigo generado da una solucion completa al problema planteado?**\n",
    "\n",
    "Para listas pequeñas de nombres nuestro codigo funciona correctamente,sin embargo,esto puede variar dependiendo del numero de datos pre-establecidos en las listas,con listas demaciado grandes probablemente tengamos que optimizar el codigo para una mejor optimizacion en el tiempo que tomara en generar aquellos nombres.\n",
    "\n",
    "**¿¿El código sigue los estándares de codificación establecidos en el equipo o proyecto?**\n",
    "\n",
    "El codigo planteado en la resolucion de este problema, si cumple con los estandares establecidos ya que abarca una gran cantidad de memoria para generar nombres aleatorios. \n",
    "\n",
    "**\n"
   ]
  },
  {
   "cell_type": "markdown",
   "id": "c073388c-492a-457a-8bb5-8b6bfb276089",
   "metadata": {},
   "source": [
    "**CONCLUSIONES:** \n",
    "\n",
    "En este proyecto, se ha desarrollado un programa en C++ que genera nombres divertidos al combinar nombres y apellidos de manera aleatoria. El programa es capaz de generar nombres tontos de forma rápida y sencilla, lo que lo convierte en una herramienta divertida y creativa. Se han obtenido resultados satisfactorios durante las pruebas, lo que demuestra la efectividad del programa. \n",
    "\n",
    "**TRABAJOS FUTUROS:**\n",
    "\n",
    "Mejora de la generación de nombres tontos: Puedes explorar diferentes algoritmos o estrategias para generar nombres tontos de una manera aún más divertida o interesante. Esto podría incluir el uso de estructuras de datos más complejas, como árboles de búsqueda, para generar combinaciones únicas y creativas de nombres y apellidos.\n",
    "\n",
    "Personalización de nombres tontos: Puedes implementar funcionalidades que permitan al usuario personalizar los nombres tontos generados. Esto podría incluir la opción de agregar prefijos o sufijos adicionales a los nombres, permitir la selección de un tema o categoría específica para los nombres tontos, o incluso permitir la entrada de palabras clave personalizadas que se utilizarán en la generación.\n",
    "\n",
    "Integración con otras aplicaciones: Puedes explorar la integración del programa de generación de nombres tontos con otras aplicaciones o servicios. Por ejemplo, podrías desarrollar una interfaz de programación de aplicaciones (API) que permita a otros desarrolladores acceder y utilizar la funcionalidad de generación de nombres tontos en sus propias aplicaciones.\n",
    "\n",
    "Generación de nombres tontos basados en datos de entrada: Puedes considerar la posibilidad de generar nombres tontos utilizando datos de entrada adicionales, como gustos o intereses de los usuarios. Por ejemplo, podrías utilizar una lista de palabras clave relacionadas con pasatiempos o profesiones para generar nombres tontos temáticos."
   ]
  },
  {
   "cell_type": "markdown",
   "id": "b776336c-44d0-4856-95f4-6baefe98228f",
   "metadata": {},
   "source": [
    "**BIBLIOGRAFIA O REFERENCIAS:**\n",
    "\n",
    "https://docs.python.org/es/dev/library/random.html\n",
    "https://en.cppreference.com/w/\n",
    "https://cplusplus.com/reference/random/\n"
   ]
  }
 ],
 "metadata": {
  "colab": {
   "name": "Welcome to DataCamp Workspaces.ipynb",
   "provenance": []
  },
  "kernelspec": {
   "display_name": "Python 3 (ipykernel)",
   "language": "python",
   "name": "python3"
  },
  "language_info": {
   "codemirror_mode": {
    "name": "ipython",
    "version": 3
   },
   "file_extension": ".py",
   "mimetype": "text/x-python",
   "name": "python",
   "nbconvert_exporter": "python",
   "pygments_lexer": "ipython3",
   "version": "3.10.9"
  }
 },
 "nbformat": 4,
 "nbformat_minor": 5
}
