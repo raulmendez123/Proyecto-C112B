{
 "cells": [
  {
   "cell_type": "markdown",
   "id": "0a6d8108",
   "metadata": {},
   "source": [
    "UNIVERSIDAD NACIONAL DE INGENIERÍA\n",
    "\n",
    "FACULTAD DE CIENCIAS\n",
    "\n",
    "ESCUELA PROFESIONAL DE CIENCIAS DE LA COMPUTACIÓN\n",
    "\n",
    "Nombre del Proyecto: “GENERADOR DE NOMBRES TONTOS”\n",
    "\n",
    "Sección: “B”\n",
    "\n",
    "Apellidos, nombres y código:\n",
    "\n",
    "Rosales Torres, Elias Enoc 20221629C\n",
    "\n",
    "Gomez Carlos, Arnol Shadon 20222698I\n",
    "\n",
    "Prieto Chancasanampa, Cesar Edu 20222717C\n",
    "\n",
    "Mendez Ñaupa, Raul Alonso 20210422C\n",
    "\n",
    "Nombre del docente: Cesar Jesus Lara Avila\n",
    "\n",
    "Lenguaje de programación a usar: Lenguaje C++ y Python\n",
    "\n",
    "Fecha de entrega: 2 de Julio del 2023.\n",
    "\n",
    "2023"
   ]
  },
  {
   "cell_type": "markdown",
   "id": "66a894b3",
   "metadata": {},
   "source": [
    "**1. INTRODUCCIÓN:**\n",
    "\n",
    "**I)PROBLEMA:**\n",
    "Este proyecto consiste en desarrollar un programa en C + + o Python que sea capaz de generar nombres chiflados al combinar nombres y apellidos de manera aleatoria.\n",
    "Dicho proyecto se enfoca en la solucion de diferentes problemas de la vida diaria, uno de los problemas es la cantidad de nombres de usuarios para registarse a una red social o videojuegos. Los nombres comunes ya son registrados a dichas plataformas y cuando exista un jugador nuevo no podra registrarse porque el nombre ya esta en uso. Por eso se preparo este proyecto para solucionar dicho problema. Generar nombres tontos y divertidos que a poca gente se le pueda ocurrir. \n",
    "Además, no estarás solo en esta travesía. Podrás aprovechar programas externos y herramientas que te ayudarán a mejorar la calidad de tu código. \n",
    "\n",
    "**II)OBJETIVOS:**\n",
    "El objetivo principal de este proyecto es desarrollar un programa en C++ que genere nombres divertidos al combinar nombres y apellidos de manera aleatoria. Se busca proporcionar una herramienta lúdica y creativa que pueda ser utilizada en diversas ocasiones, como la creación de personajes de ficción, la generación de apodos o la planificación de eventos temáticos.\n",
    "\n",
    "**III)Organizacion del Informe:**\n",
    "El proyecto se organiza en diferentes aspectos como:\n",
    "\n",
    "1. Introducción\n",
    "2. Estado del arte\n",
    "3. Diseño del experimento\n",
    "4. Experimentos y resultados\n",
    "5. Discusión\n",
    "6. Conclusiones y trabajos futuros.\n",
    "7. Bibliografía o Referencias."
   ]
  },
  {
   "cell_type": "markdown",
   "id": "7ee89f02",
   "metadata": {},
   "source": [
    "**RESUMEN:**\n",
    "\n",
    "En este proyecto de preparación, desarrollaremos un programa sencillo en C + + o Python que genere nombres extravagantes al combinar de forma aleatoria nombres y apellidos. Con suerte, obtendrás una amplia gama de alias que seguramente impresionará a tus amigos. Además, debes tener en cuenta las pautas de codificación de mejores prácticas y aprovechar programas externos que te ayudarán a escribir un código que cumpla con dichas pautas. En resumen, el proyecto consiste en crear un generador de nombres locos, seguir buenas prácticas de codificación y utilizar herramientas para mejorar la calidad del código"
   ]
  },
  {
   "cell_type": "markdown",
   "id": "243f9ea8",
   "metadata": {},
   "source": [
    "2. ESTADO DE ARTE:\n",
    "\n",
    "A continuación, se mencionan tres artículos científicos relevantes que abordan el problema de la generación de nombres divertidos y sus variantes:\n",
    "\n",
    "Phil.o(2016).Random Name Generation Using Markov Chain.Code Project,1. Obtenido de www.codeproject.com/Articles/1151624/Random-Name-Generation-Using-Markov-Chains.\n",
    "\n",
    "Alejandro, L. (2017). Sistema de recitación de maletín con generador de nombres aleatorios: una herramienta de recitación alternativa. Revista Internacional de Investigación en Ciencias de la Computación, 1 (2), 36-45. Obtenido de https://stepacademic.net/ijcsr/article/view/28.\n",
    "\n",
    "Peter V Marsden(2003).Interviewer effects in measuring network size using a single name generator,Social Networks,25,(1),1-16. Obtenido de https://doi.org/10.1016/S0378-8733(02)00009-6."
   ]
  },
  {
   "cell_type": "markdown",
   "id": "ae22e2af",
   "metadata": {},
   "source": [
    "3. Diseño del Experimento\n",
    "\n",
    "En primer lugar, vamos a establecer dos listas de nombres graciosos. Estas listas serán de tamaño reducido, por lo que no ocuparán mucha memoria. No habrá necesidad de modificarlas dinámicamente ni se esperan problemas de rendimiento durante su ejecución. Dado que solo necesitaremos leer los nombres de la lista, utilizaremos una tupla como estructura contenedora. Usando las dos tuplas de nombres que has definido, generaremos nombres nuevos al combinar un nombre de la primera tupla con un apellido de la segunda tupla. Esto se hará al presionar un botón, lo que permitirá al usuario repetir el proceso fácilmente hasta encontrar un nombre lo bastante divertido. Además, es necesario resaltar el nombre generado en la ventana del intérprete para que se destaque de las indicaciones de comando. Aunque el shell IDLE tiene opciones de fuente limitadas, podemos utilizar el color rojo que generalmente se utiliza para resaltar los errores. Para lograr esto, podemos utilizar el módulo sys y redirigir la salida de la función print() al archivo sys.stderr. De esta manera, el nombre se mostrará en rojo en la ventana del intérprete, destacándose de las demás líneas de salida.\n",
    "\n",
    "El código utilizado para realizar el proyecto:\n",
  
  },
  {
   "cell_type": "code",
   "execution_count": null,
   "id": "ab977455",
   "metadata": {},
   "outputs": [],
   "source": []
  },
  {
   "cell_type": "code",
   "execution_count": null,
   "id": "e0a82a03",
   "metadata": {},
   "outputs": [],
   "source": []
  }
 ],
 "metadata": {
  "kernelspec": {
   "display_name": "Python 3 (ipykernel)",
   "language": "python",
   "name": "python3"
  },
  "language_info": {
   "codemirror_mode": {
    "name": "ipython",
    "version": 3
   },
   "file_extension": ".py",
   "mimetype": "text/x-python",
   "name": "python",
   "nbconvert_exporter": "python",
   "pygments_lexer": "ipython3",
   "version": "3.10.9"
  }
 },
 "nbformat": 4,
 "nbformat_minor": 5
}
